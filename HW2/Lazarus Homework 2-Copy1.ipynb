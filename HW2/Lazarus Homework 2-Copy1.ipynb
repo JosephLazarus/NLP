{
 "cells": [
  {
   "cell_type": "markdown",
   "id": "a54b806e",
   "metadata": {},
   "source": [
    "Homework 2\n",
    "\n",
    "1.\tIn Python, create a method for scoring the vocabulary size of a text, and normalize the score from 0 to 1. It does not matter what method you use for normalization as long as you explain it in a short paragraph. \n",
    "Some relevant resources that you can leverage:\n",
    "https://docs.tibco.com/pub/spotfire/6.5.0/doc/html/norm/norm_scale_between_0_and_1.htm\n",
    "https://scikit-learn.org/stable/modules/generated/sklearn.preprocessing.MinMaxScaler.html\n",
    "\n",
    "2.\tAfter consulting section 3.2 in chapter 1 of Bird-Klein, create a method for scoring the long-word vocabulary size of a text, and likewise normalize (and explain) the scoring as in step 1 above.\n",
    "\n",
    "3.\tNow create a “text difficulty score” by combining the lexical diversity score from homework 1, and your normalized score of vocabulary size and long-word vocabulary size, in equal weighting. Explain what you see when this score is applied to same graded texts you used in homework 1.\n"
   ]
  },
  {
   "cell_type": "code",
   "execution_count": 1,
   "id": "7cd90b98",
   "metadata": {},
   "outputs": [],
   "source": [
    "import nltk\n",
    "from nltk import word_tokenize\n",
    "import bs4\n",
    "from bs4 import BeautifulSoup, SoupStrainer\n",
    "import requests\n",
    "import re\n",
    "from urllib import request\n",
    "import numpy as np\n",
    "from sklearn.preprocessing import minmax_scale"
   ]
  },
  {
   "cell_type": "code",
   "execution_count": 2,
   "id": "1fdd3fef",
   "metadata": {},
   "outputs": [
    {
     "name": "stdout",
     "output_type": "stream",
     "text": [
      "<class 'list'>\n",
      "332429\n"
     ]
    }
   ],
   "source": [
    "url_text =  'https://www.gutenberg.org/files/1946/1946-0.txt'\n",
    "response = request.urlopen(url_text)\n",
    "raw = response.read().decode('utf8')\n",
    "tokens = word_tokenize(raw)\n",
    "print(type(tokens))\n",
    "print(len(tokens))"
   ]
  },
  {
   "cell_type": "code",
   "execution_count": 3,
   "id": "b004f1f7",
   "metadata": {},
   "outputs": [],
   "source": [
    "# found this function using beautiful soup but ended up going with the format used by the book and professors code\n",
    "url_text =  'https://www.gutenberg.org/files/1946/1946-0.txt'\n",
    "response = request.urlopen(url_text)\n",
    "soup = BeautifulSoup(response, 'html.parser')\n",
    "text = soup.get_text()\n",
    "words = re.findall('\\w+', text)\n",
    "lowered = []\n",
    "for word in words:\n",
    "    lowered.append(word.lower())\n",
    "text = nltk.Text(lowered)\n"
   ]
  },
  {
   "cell_type": "code",
   "execution_count": 4,
   "id": "245236ad",
   "metadata": {},
   "outputs": [],
   "source": [
    "tokens = word_tokenize(raw)"
   ]
  },
  {
   "cell_type": "code",
   "execution_count": 9,
   "id": "fb2aa9c2",
   "metadata": {},
   "outputs": [],
   "source": [
    "#function to do the same thing but also take out the header stuff not partof the actual text\n",
    "def read_and_strip(url):\n",
    "    response = request.urlopen(url)\n",
    "    raw = response.read().decode('utf8')\n",
    "    start=raw.find(\"START OF THIS PROJECT GUTENBERG EBOOK\")\n",
    "    print(start)\n",
    "    end=raw.find(\"END OF THIS PROJECT GUTENBERG EBOOK\")\n",
    "    print(end)\n",
    "    raw = raw[start+37:end]\n",
    "    lowered = []\n",
    "    for word in words:\n",
    "        lowered.append(raw.lower())\n",
    "    tokens = word_tokenize(lowered)\n",
    "    return nltk.Text(tokens)"
   ]
  },
  {
   "cell_type": "code",
   "execution_count": null,
   "id": "b0585f78",
   "metadata": {},
   "outputs": [
    {
     "name": "stdout",
     "output_type": "stream",
     "text": [
      "706\n",
      "1714434\n"
     ]
    }
   ],
   "source": [
    "onWar = read_and_strip('https://www.gutenberg.org/files/1946/1946-0.txt')"
   ]
  },
  {
   "cell_type": "code",
   "execution_count": null,
   "id": "d1269626",
   "metadata": {},
   "outputs": [],
   "source": [
    "huckFinn = read_and_strip('')"
   ]
  },
  {
   "cell_type": "code",
   "execution_count": null,
   "id": "7a2bac7c",
   "metadata": {},
   "outputs": [],
   "source": []
  },
  {
   "cell_type": "code",
   "execution_count": 7,
   "id": "f815e53f",
   "metadata": {},
   "outputs": [
    {
     "data": {
      "text/plain": [
       "'<Text: ON WAR * * * Produced by Charles...>'"
      ]
     },
     "execution_count": 7,
     "metadata": {},
     "output_type": "execute_result"
    }
   ],
   "source": [
    "str(onWar)"
   ]
  },
  {
   "cell_type": "code",
   "execution_count": null,
   "id": "5c444bc8",
   "metadata": {},
   "outputs": [],
   "source": [
    "#### Method to get the Vocab Size and normalize the score\n",
    "\n",
    "def n_vocab_size(*arg):\n",
    "    vocab_size = np.array([])\n",
    "    vocab_size_norm = np.array([])\n",
    "    \n",
    "    #### Getting the Vocab Size\n",
    "    for text in arg:\n",
    "        vocab_size = np.append(vocab_size,len(set(text)))\n",
    "    \n",
    "    #### Normalizing using the formula \n",
    "    for vsize in vocab_size:\n",
    "        vocab_size_norm = np.append(vocab_size_norm,(vsize - vocab_size.min()) /\n",
    "                                                    (vocab_size.max() - vocab_size.min()))\n",
    "    \n",
    "    #### Normalizing using sklearn preprocessing \n",
    "    vocab_size_norm_sklearn = minmax_scale(vocab_size, feature_range=(0,1), axis=0)\n",
    "    \n",
    "    return(vocab_size,vocab_size_norm,vocab_size_norm_sklearn)\n"
   ]
  },
  {
   "cell_type": "code",
   "execution_count": null,
   "id": "e4cececb",
   "metadata": {},
   "outputs": [],
   "source": [
    "n_vocab_size(onWar)"
   ]
  },
  {
   "cell_type": "code",
   "execution_count": null,
   "id": "b232b851",
   "metadata": {},
   "outputs": [],
   "source": [
    "print(\"Normalized Values by using the formula\", *vocab_size[1],sep='\\n- ')\n"
   ]
  }
 ],
 "metadata": {
  "kernelspec": {
   "display_name": "Python 3 (ipykernel)",
   "language": "python",
   "name": "python3"
  },
  "language_info": {
   "codemirror_mode": {
    "name": "ipython",
    "version": 3
   },
   "file_extension": ".py",
   "mimetype": "text/x-python",
   "name": "python",
   "nbconvert_exporter": "python",
   "pygments_lexer": "ipython3",
   "version": "3.9.7"
  }
 },
 "nbformat": 4,
 "nbformat_minor": 5
}
